{
 "cells": [
  {
   "cell_type": "markdown",
   "id": "57a93129",
   "metadata": {},
   "source": [
    "# SIMPLE INTEREST CALCULATOR\n",
    "\n",
    "### Simple interest is used to calculate the proportion of interest paid on a certain amount over a set time period at a set rate.\n",
    "Principal= Amount Borrowed  \n",
    "Rate = Rate of interest  \n",
    "Time = Time period   "
   ]
  },
  {
   "cell_type": "code",
   "execution_count": 5,
   "id": "4dd34d19",
   "metadata": {},
   "outputs": [
    {
     "name": "stdout",
     "output_type": "stream",
     "text": [
      "Enter the value of Principal = 5000000\n",
      "Enter the value of Rate = 5\n",
      "Enter the value of Time = 10\n",
      "Simple Interest is 2500000.00\n"
     ]
    }
   ],
   "source": [
    "def simple_interest_calculator(Principal, Rate, Time): #Let's define the formula\n",
    "    Simple_Interest = (Principal*Rate*Time)/100\n",
    "    return Simple_Interest\n",
    "\n",
    "Principal = float(input('Enter the value of Principal = ')) #Input for Principal\n",
    "Rate = float(input('Enter the value of Rate = ')) #Input for Rate\n",
    "Time = float(input('Enter the value of Time = ')) #Input for Time\n",
    "\n",
    "#This prints our result to 2 decimal place\n",
    "print('Simple Interest is {:.2f}'.format(simple_interest_calculator(Principal, Rate, Time)))"
   ]
  },
  {
   "cell_type": "code",
   "execution_count": null,
   "id": "a3f685c9",
   "metadata": {},
   "outputs": [],
   "source": []
  }
 ],
 "metadata": {
  "kernelspec": {
   "display_name": "Python 3",
   "language": "python",
   "name": "python3"
  },
  "language_info": {
   "codemirror_mode": {
    "name": "ipython",
    "version": 3
   },
   "file_extension": ".py",
   "mimetype": "text/x-python",
   "name": "python",
   "nbconvert_exporter": "python",
   "pygments_lexer": "ipython3",
   "version": "3.8.8"
  }
 },
 "nbformat": 4,
 "nbformat_minor": 5
}
